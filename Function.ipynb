{
 "cells": [
  {
   "cell_type": "markdown",
   "id": "327cc140",
   "metadata": {},
   "source": [
    "# Python programming\n",
    "# By Dr.Rafeek Yanni\n",
    "# Funcations"
   ]
  },
  {
   "cell_type": "code",
   "execution_count": null,
   "id": "53fd23fe",
   "metadata": {},
   "outputs": [],
   "source": [
    "# Funcation Defination\n",
    "def  printHello():\n",
    "    print(\"Hello! \")\n",
    "printHello()"
   ]
  },
  {
   "cell_type": "code",
   "execution_count": null,
   "id": "fc6f394d",
   "metadata": {},
   "outputs": [],
   "source": [
    "def my_function(aname):\n",
    "  print('Hello, '+ aname )\n",
    "\n",
    "name=input('Enter a name: ')\n",
    "my_function(name)\n"
   ]
  },
  {
   "cell_type": "code",
   "execution_count": null,
   "id": "bd019f85",
   "metadata": {},
   "outputs": [],
   "source": [
    "# Funcation - Non Arguments\n",
    "def greet():\n",
    "    print(\"Hello!\")\n",
    "greet()"
   ]
  },
  {
   "cell_type": "code",
   "execution_count": null,
   "id": "7b95c6fe",
   "metadata": {},
   "outputs": [],
   "source": [
    "# Funcation - One Arguments\n",
    "def greet(name):\n",
    "    print(\"Hello, \" + name)\n",
    "greet(\"Ali\")"
   ]
  },
  {
   "cell_type": "code",
   "execution_count": null,
   "id": "a55f4721",
   "metadata": {},
   "outputs": [],
   "source": [
    "# Funcation - Double Arguments\n",
    "def add(a, b):\n",
    "    result = a + b\n",
    "    print(\"The sum is:\", result)\n",
    "add(3, 5)"
   ]
  },
  {
   "cell_type": "code",
   "execution_count": null,
   "id": "56217b53",
   "metadata": {},
   "outputs": [],
   "source": [
    "# Funcation - Multi Arguments\n",
    "\n",
    "def print_numbers(*args):\n",
    "    for number in args:\n",
    "        print(number)\n",
    "print_numbers(1, 2, 3, 4, 5)"
   ]
  },
  {
   "cell_type": "code",
   "execution_count": null,
   "id": "7bbb6d73",
   "metadata": {},
   "outputs": [],
   "source": [
    "# Passing a List as an Argument\n",
    "\n",
    "def my_function(names):\n",
    "   for x in names:\n",
    "      print(x)\n",
    "families = [\"Badr\", \"Jomaa\", \"Hamad\"]\n",
    "my_function(families)"
   ]
  },
  {
   "cell_type": "code",
   "execution_count": null,
   "id": "8cb6a9c0",
   "metadata": {},
   "outputs": [],
   "source": [
    "def print_list(my_list):\n",
    "    for item in my_list:\n",
    "        print(item)\n",
    "\n",
    "# تعريف قائمة\n",
    "numbers = [1, 2, 3, 4, 5]\n",
    "\n",
    "# استدعاء الدالة وتمرير القائمة كمعامل\n",
    "print_list(numbers)"
   ]
  },
  {
   "cell_type": "code",
   "execution_count": null,
   "id": "eb619f1a",
   "metadata": {},
   "outputs": [],
   "source": [
    "# Examle \n",
    "def sum_list(my_list):\n",
    "    total = 0\n",
    "    for item in my_list:\n",
    "        total += item\n",
    "    return total\n",
    "\n",
    "numbers = [1, 2, 3, 4, 5]\n",
    "result = sum_list(numbers)\n",
    "print(\"The sum is:\", result)\n"
   ]
  },
  {
   "cell_type": "markdown",
   "id": "10839911",
   "metadata": {},
   "source": [
    "# Functions without return"
   ]
  },
  {
   "cell_type": "code",
   "execution_count": null,
   "id": "45d78ea6",
   "metadata": {},
   "outputs": [],
   "source": [
    "#Function call\n",
    "def welcome(aName):\n",
    "  print(\"Hello\" , aName)\n",
    "  print(\"Welcome to M110 Course\")\n",
    "welcome(\"RMTY\")  "
   ]
  },
  {
   "cell_type": "code",
   "execution_count": null,
   "id": "13321d71",
   "metadata": {},
   "outputs": [],
   "source": [
    "# Add Value \n",
    "def add_items(my_list, item):\n",
    "    my_list.append(item)\n",
    "    print(\"Item added:\", item)\n",
    "\n",
    "# تعريف قائمة\n",
    "shopping_list = [\"milk\", \"bread\"]\n",
    "\n",
    "# استدعاء الدالة وإضافة عنصر جديد\n",
    "add_items(shopping_list, \"eggs\")\n",
    "print(\"Updated list:\", shopping_list)\n"
   ]
  },
  {
   "cell_type": "code",
   "execution_count": null,
   "id": "7ac6557b",
   "metadata": {},
   "outputs": [],
   "source": [
    "# Print List\n",
    "def print_items(items):\n",
    "    for item in items:\n",
    "        print(item)\n",
    "\n",
    "fruits = [\"apple\", \"banana\", \"cherry\"]\n",
    "print_items(fruits)\n"
   ]
  },
  {
   "cell_type": "markdown",
   "id": "051114d0",
   "metadata": {},
   "source": [
    "# Functions with return"
   ]
  },
  {
   "cell_type": "code",
   "execution_count": null,
   "id": "cc0af88d",
   "metadata": {},
   "outputs": [],
   "source": [
    "#Calculate Area\n",
    "def recArea(aHeight, aWidth) :\n",
    "     \n",
    "     area = aHeight * aWidth\n",
    "     \n",
    "     return area\n",
    "\n",
    " \n",
    "h = eval(input(\"Enter the height: \" ))\n",
    "    \n",
    "w = eval(input(\"Enter the width: \"))\n",
    "\n",
    "print(\"Area = \",recArea(h,w)) #Function call inside print()\n"
   ]
  },
  {
   "cell_type": "code",
   "execution_count": null,
   "id": "887b062d",
   "metadata": {},
   "outputs": [],
   "source": [
    "# Calc Average \n",
    "def average(numbers):\n",
    "    total = sum(numbers)\n",
    "    return total / len(numbers)\n",
    "\n",
    "# تعريف قائمة من الأرقام\n",
    "values = [10, 20, 30, 40, 50]\n",
    "\n",
    "# استدعاء الدالة وتخزين النتيجة\n",
    "avg = average(values)\n",
    "print(\"The average is:\", avg)\n"
   ]
  },
  {
   "cell_type": "code",
   "execution_count": null,
   "id": "4ccc1244",
   "metadata": {},
   "outputs": [],
   "source": [
    "# Calc Average\n",
    "def average(numbers):\n",
    "    total = sum(numbers)\n",
    "    return total / len(numbers)\n",
    "\n",
    "# تعريف قائمة من الأرقام\n",
    "values = [10, 20, 30, 40, 50]\n",
    "\n",
    "# استدعاء الدالة وتخزين النتيجة\n",
    "avg = average(values)\n",
    "print(\"The average is:\", avg)\n"
   ]
  },
  {
   "cell_type": "code",
   "execution_count": null,
   "id": "108d8ae6",
   "metadata": {},
   "outputs": [],
   "source": [
    "# Check Number Even Or ODD\n",
    "def is_even(number):\n",
    "    return number % 2 == 0\n",
    "\n",
    "# استدعاء الدالة وتخزين النتيجة\n",
    "result = is_even(4)\n",
    "print(\"Is the number even?\", result)\n"
   ]
  },
  {
   "cell_type": "code",
   "execution_count": null,
   "id": "ba4e85ef",
   "metadata": {},
   "outputs": [],
   "source": [
    "def main():\n",
    "    print(\"I have Message for you\")\n",
    "    message()\n",
    "    print(\"Bye\")\n",
    "def message():\n",
    "    print(\"I'm RMTY\")\n",
    "    print(\"22 Y\")\n",
    "main()"
   ]
  },
  {
   "cell_type": "code",
   "execution_count": null,
   "id": "cf9ab44f",
   "metadata": {},
   "outputs": [],
   "source": []
  }
 ],
 "metadata": {
  "kernelspec": {
   "display_name": "Python 3",
   "language": "python",
   "name": "python3"
  },
  "language_info": {
   "codemirror_mode": {
    "name": "ipython",
    "version": 3
   },
   "file_extension": ".py",
   "mimetype": "text/x-python",
   "name": "python",
   "nbconvert_exporter": "python",
   "pygments_lexer": "ipython3",
   "version": "3.8.8"
  }
 },
 "nbformat": 4,
 "nbformat_minor": 5
}
