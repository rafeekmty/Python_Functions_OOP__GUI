{
 "cells": [
  {
   "cell_type": "markdown",
   "id": "33d958ad",
   "metadata": {},
   "source": [
    "# Python programming\n",
    "# By Dr.Rafeek Yanni\n",
    "# Decision Structure and boolean Loogic"
   ]
  },
  {
   "cell_type": "code",
   "execution_count": null,
   "id": "c89c8d48",
   "metadata": {},
   "outputs": [],
   "source": [
    "# If Statment"
   ]
  },
  {
   "cell_type": "code",
   "execution_count": null,
   "id": "be06d88a",
   "metadata": {},
   "outputs": [],
   "source": [
    "# Boolean Expressions (Using Relation Operators)\n",
    "\n",
    "\n",
    "print(13>=5+8)\n",
    "print(2==4)\n",
    "print(5!=3*7)\n",
    "40>=5*9"
   ]
  },
  {
   "cell_type": "code",
   "execution_count": null,
   "id": "111db536",
   "metadata": {},
   "outputs": [],
   "source": [
    "# Simple if Statment\n",
    "\n",
    "a = 33\n",
    "b = 200\n",
    "if b>a:\n",
    "    print(\"b is greater than a\")\n",
    "print(\"Done!\")"
   ]
  },
  {
   "cell_type": "code",
   "execution_count": null,
   "id": "4ad24b6d",
   "metadata": {},
   "outputs": [],
   "source": [
    "# if-else Statment\n",
    "a = 200\n",
    "b = 33\n",
    "if b > a:\n",
    "    print(\"b is greater than a\")\n",
    "else:\n",
    "    print(\"b is less than or equal to a\")"
   ]
  },
  {
   "cell_type": "code",
   "execution_count": null,
   "id": "7bc876d9",
   "metadata": {},
   "outputs": [],
   "source": [
    "# if-else Statment\n",
    "a = 33\n",
    "b = 200\n",
    "if b > a:\n",
    "    print(\"b is greater than a\")\n",
    "else:\n",
    "    print(\"b is less than or equal to a\")"
   ]
  },
  {
   "cell_type": "code",
   "execution_count": null,
   "id": "11b59f7f",
   "metadata": {},
   "outputs": [],
   "source": [
    "x=\"2\"+\"3\"\n",
    "y=\"Rafeek\"\n",
    "z=int(x)\n",
    "if x==\"5\" or y==\"m\":\n",
    "    z=z+5\n",
    "else:\n",
    "    y=y+\"110\"\n",
    "print(x)\n",
    "print(y)\n",
    "print(z)"
   ]
  },
  {
   "cell_type": "code",
   "execution_count": null,
   "id": "0f8f6494",
   "metadata": {},
   "outputs": [],
   "source": [
    "grade=eval(input(\"Enter a Grade:\"))\n",
    "if grade>=50:\n",
    "    print(\"Pass\")\n",
    "else:\n",
    "    print(\"Fail\")"
   ]
  },
  {
   "cell_type": "code",
   "execution_count": null,
   "id": "b8133ee5",
   "metadata": {},
   "outputs": [],
   "source": [
    "grade=eval(input(\"Enter a Grade:\"))\n",
    "if grade>=50:\n",
    "    print(\"Hello! You tesult is found Below\")\n",
    "    print(\"Pass\")\n",
    "else:\n",
    "    print(\"Fail\")\n",
    "print(\"BYE!\")"
   ]
  },
  {
   "cell_type": "code",
   "execution_count": null,
   "id": "cd72b2e2",
   "metadata": {},
   "outputs": [],
   "source": [
    "# Comparing Strings\n",
    "name1=\"Majed\"\n",
    "name2=\"Majeda\"\n",
    "if name1==name2:\n",
    "    print(\"The names are the same\")\n",
    "else:\n",
    "    print(\"The names are NOT the same\")"
   ]
  },
  {
   "cell_type": "code",
   "execution_count": null,
   "id": "3462ca29",
   "metadata": {},
   "outputs": [],
   "source": [
    "# Boolean Variable\n",
    "\n",
    "flag=True\n",
    "number=eval(input(\"Enter a non-negative number:\"))\n",
    "if number<0:\n",
    "    flag=False\n",
    "if flag:\n",
    "    print(\"The Number\", number, \"is non-negative\")\n",
    "else:\n",
    "    print(\"The Number\", number, \"is negative\")\n",
    "print(\"Done!\")"
   ]
  },
  {
   "cell_type": "code",
   "execution_count": null,
   "id": "429652ec",
   "metadata": {},
   "outputs": [],
   "source": [
    "# Nested if Statment\n",
    "\n",
    "x=30\n",
    "if x>10:\n",
    "    print(\"The number is above ten,\", end='')\n",
    "    if x>20:\n",
    "        print(\"and also above 20!\")\n",
    "    else:\n",
    "            print(\"but not above 20.\")\n",
    "else:\n",
    "    print(\"The number is less than or equal to ten!\")\n"
   ]
  },
  {
   "cell_type": "code",
   "execution_count": null,
   "id": "f16cc0b5",
   "metadata": {},
   "outputs": [],
   "source": [
    "# The if-elif-else Statement\n",
    "a=33\n",
    "b=33\n",
    "if b>a:\n",
    "    print(\"b is greater than a\")\n",
    "elif a==b:\n",
    "        print(\"a and b are equal\")\n",
    "else:\n",
    "    print(\"b is less than a\")\n"
   ]
  },
  {
   "cell_type": "code",
   "execution_count": null,
   "id": "27eea410",
   "metadata": {},
   "outputs": [],
   "source": []
  }
 ],
 "metadata": {
  "kernelspec": {
   "display_name": "Python 3",
   "language": "python",
   "name": "python3"
  },
  "language_info": {
   "codemirror_mode": {
    "name": "ipython",
    "version": 3
   },
   "file_extension": ".py",
   "mimetype": "text/x-python",
   "name": "python",
   "nbconvert_exporter": "python",
   "pygments_lexer": "ipython3",
   "version": "3.8.8"
  }
 },
 "nbformat": 4,
 "nbformat_minor": 5
}
