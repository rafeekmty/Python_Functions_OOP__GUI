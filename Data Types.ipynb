{
 "cells": [
  {
   "cell_type": "markdown",
   "id": "56c8eaab",
   "metadata": {},
   "source": [
    "# Python programming\n",
    "# By Dr.Rafeek Yanni"
   ]
  },
  {
   "cell_type": "code",
   "execution_count": null,
   "id": "c67b8653",
   "metadata": {},
   "outputs": [],
   "source": [
    "# Data Types:\n",
    "# Integer - Int : Positive or Negative Number (5,-5)\n",
    "# Float : Real Number + Dicimal number 5.5\n",
    "# Boolean - Bool : Two Values (True-False)\n",
    "#                  Compare between two number 6==5 ==>False\n",
    "# String - str: SIngle, Double, Triple quotes \"Hello\", 'Hello', '''Hello'''"
   ]
  },
  {
   "cell_type": "code",
   "execution_count": null,
   "id": "8f1bbf5b",
   "metadata": {},
   "outputs": [],
   "source": [
    "# Print Function \n",
    "print(\"Hello World\")\n",
    "print(\"Hello!\"+'How Are You')"
   ]
  },
  {
   "cell_type": "code",
   "execution_count": null,
   "id": "643d5d2f",
   "metadata": {},
   "outputs": [],
   "source": [
    "x=(\"Apple\",\"Banana\",\"Cherry\")\n",
    "print(x)"
   ]
  },
  {
   "cell_type": "code",
   "execution_count": null,
   "id": "3e4ccd8e",
   "metadata": {},
   "outputs": [],
   "source": [
    "# Print Function \n",
    "print(\"Hello World\")\n",
    "print(\"Hello!\",'How Are You')"
   ]
  },
  {
   "cell_type": "code",
   "execution_count": null,
   "id": "3591fe3b",
   "metadata": {},
   "outputs": [],
   "source": [
    "# Python \"case Sensitive\"\n",
    "print(\"Hello\")\n",
    "Print(\"Hello\")"
   ]
  },
  {
   "cell_type": "code",
   "execution_count": null,
   "id": "1345526d",
   "metadata": {},
   "outputs": [],
   "source": [
    "# You Can use single-quote marks to enclose a string literal\n",
    "# that contains double quotes as part of the string \n",
    "print('Hello my Frind to \"AOU Egyt\"')\n",
    "print(\"Welcom To AOU Egypt\")"
   ]
  },
  {
   "cell_type": "code",
   "execution_count": null,
   "id": "b2425de6",
   "metadata": {},
   "outputs": [],
   "source": [
    "# Square brackets can be used to access elements of the string\n",
    "a = \"Hello World\"\n",
    "print(a[1])"
   ]
  },
  {
   "cell_type": "code",
   "execution_count": null,
   "id": "2daa8667",
   "metadata": {},
   "outputs": [],
   "source": [
    "# We can use the Len() function to get the Length of the String\n",
    "s=\"4246xx\"\n",
    "print(len(s))"
   ]
  },
  {
   "cell_type": "code",
   "execution_count": null,
   "id": "0c1274b6",
   "metadata": {},
   "outputs": [],
   "source": [
    "# To check if a certain phrase or character is present in a string, we can use the keyword in.\n",
    "s=\"Welcome to AOU Egypt\"\n",
    "print(\"AOU\" in (s))"
   ]
  },
  {
   "cell_type": "code",
   "execution_count": null,
   "id": "15e82296",
   "metadata": {},
   "outputs": [],
   "source": [
    "# Slicing format :: [Start : End : Step]\n",
    "# It will return a string containing a copy of the characters from start up to but not including, stop.\n",
    "# The step is the steps to take from start to end.\n",
    "# From Start up to but not including End\n",
    "s=\"Hello, AOU World\"\n",
    "print(s[1:5])"
   ]
  },
  {
   "cell_type": "code",
   "execution_count": null,
   "id": "db9ce4ee",
   "metadata": {},
   "outputs": [],
   "source": [
    "# By leaving out the start index, the range will start at the first character.\n",
    "s=\"Hello, AOU World\"\n",
    "print(s[:5])"
   ]
  },
  {
   "cell_type": "code",
   "execution_count": null,
   "id": "bdad48f2",
   "metadata": {},
   "outputs": [],
   "source": [
    "# By leaving out the stop index, the range will go to the end.\n",
    "s=\"Hello, AOU World\"\n",
    "print(s[5:])"
   ]
  },
  {
   "cell_type": "code",
   "execution_count": null,
   "id": "9092e33a",
   "metadata": {},
   "outputs": [],
   "source": [
    "# You can use negative indexes to start the slice from the end of the string.\n",
    "s=\"Students!\"\n",
    "print(s[-6:-1])\n",
    "print(s[-6:-9:-1])\n",
    "print(s[-6::-1])"
   ]
  },
  {
   "cell_type": "code",
   "execution_count": null,
   "id": "84430a6e",
   "metadata": {},
   "outputs": [],
   "source": [
    "# You can specify the steps:\n",
    "s=\"Hello, AOU students!\"\n",
    "print(s[0:5:2])"
   ]
  },
  {
   "cell_type": "code",
   "execution_count": null,
   "id": "8f0de627",
   "metadata": {},
   "outputs": [],
   "source": [
    "# Using Step Value 2\n",
    "s=\"Students!\" \n",
    "print(s[-6:-1:2])\n",
    "#print(s[-1::-1])\n",
    "#print(s[::-1])"
   ]
  },
  {
   "cell_type": "code",
   "execution_count": null,
   "id": "15bc7d4e",
   "metadata": {},
   "outputs": [],
   "source": [
    "# By default, the value of this parameter is ‘\\n’ (the new line character).\n",
    "# Python’s print() function comes with a parameter called ‘end’. \n",
    "# You can end a print statement with any character or string using this parameter\n",
    "\n",
    "#-->No Space\n",
    "print('I',end='')\n",
    "print('Love',end='')\n",
    "print('python')\n",
    "\n",
    "#-->With Space\n",
    "print('I',end=' ')\n",
    "print('Love',end='*')\n",
    "print('python')"
   ]
  },
  {
   "cell_type": "code",
   "execution_count": null,
   "id": "f75e9703",
   "metadata": {},
   "outputs": [],
   "source": [
    "print('I', 'Love', 'Python')\n",
    "print('I', 'Love', 'Python', sep='*')"
   ]
  },
  {
   "cell_type": "code",
   "execution_count": null,
   "id": "3ad6784e",
   "metadata": {},
   "outputs": [],
   "source": [
    "# Escape Charachters\n",
    "# \\n: Causes output to be advanced to the next line.\n",
    "# \\t: Causes output to skip over to the next horizontal tab position \n",
    "\n",
    "print('I Love\\n\\nPython')\n",
    "print('I Love\\tPython')\n"
   ]
  },
  {
   "cell_type": "code",
   "execution_count": null,
   "id": "b2733f5f",
   "metadata": {},
   "outputs": [],
   "source": [
    "# Displaying Multiple Items with the + Operator\n",
    "\n",
    "print('This is One String' )\n",
    "print('This is ' + 'One String' )\n",
    "print('This is' + 'One String' )\n",
    "print('This is' , 'One String' )\n",
    "print('This is ' + 'One String', sep=\"*\")\n",
    "print('This is ' , 'One String', sep=\"*\")"
   ]
  },
  {
   "cell_type": "code",
   "execution_count": null,
   "id": "235c54e2",
   "metadata": {},
   "outputs": [],
   "source": [
    "# And Repeted with *\n",
    "print(2*\"Mohamed \" + \"Ahmed\")\n",
    "print(\"Ahmed \" *3)"
   ]
  },
  {
   "cell_type": "code",
   "execution_count": null,
   "id": "79319311",
   "metadata": {},
   "outputs": [],
   "source": [
    "# Using Formate Specifier\n",
    "print(format(123456.789,'.2f'))\n",
    "print(format(123456.789,'.3f'))"
   ]
  },
  {
   "cell_type": "code",
   "execution_count": null,
   "id": "f01f9633",
   "metadata": {},
   "outputs": [],
   "source": [
    "# You can assign to multiple names at the same times\n",
    "x,y,z=1,2,3\n",
    "print(z)"
   ]
  },
  {
   "cell_type": "code",
   "execution_count": null,
   "id": "36572141",
   "metadata": {},
   "outputs": [],
   "source": [
    "# Displaying multiplie items with one call - Example1\n",
    "y=3\n",
    "Name=\"Bilal\"\n",
    "print(y,\":\",Name)\n",
    "print(y,\":\",Name,sep=\"\")\n",
    "#print(y+\":\",Name)"
   ]
  },
  {
   "cell_type": "code",
   "execution_count": null,
   "id": "c609f170",
   "metadata": {},
   "outputs": [],
   "source": [
    "# Displaying multiplie items with one call - Example2\n",
    "y=\"Hello\"\n",
    "print(y,\"World!\")\n",
    "print(y+\"World!\")"
   ]
  },
  {
   "cell_type": "code",
   "execution_count": null,
   "id": "78c743ef",
   "metadata": {},
   "outputs": [],
   "source": [
    "# Displaying multiplie items with one call - Example3\n",
    "Course_Name=\"Python Programming\"\n",
    "Course_Section=210\n",
    "print(\"The course is\",Course_Name,\", and my section is\",Course_Section) "
   ]
  },
  {
   "cell_type": "code",
   "execution_count": null,
   "id": "6aa0ca5d",
   "metadata": {},
   "outputs": [],
   "source": [
    "# Reading from the keyboard : variable = input(prompt)\n",
    "x=input(\"Enter Your Name:\")\n",
    "print(x)\n"
   ]
  },
  {
   "cell_type": "code",
   "execution_count": null,
   "id": "943a4682",
   "metadata": {},
   "outputs": [],
   "source": [
    "# For reading values (numbers) from the keyboard we can use “eval()” which converts the string to values.\n",
    "x=input(\"Enter 1st Num\")\n",
    "y=input(\"Enter 2nd Num\")\n",
    "print(\"The total number \",x+y)"
   ]
  },
  {
   "cell_type": "code",
   "execution_count": null,
   "id": "893ac651",
   "metadata": {},
   "outputs": [],
   "source": [
    "# For reading values (numbers) from the keyboard we can use “eval()” which converts the string to values.\n",
    "x=eval(input(\"Enter 1st Num\"))\n",
    "y=eval(input(\"Enter 2nd Num\"))\n",
    "print(\"The total number \",x+y)"
   ]
  },
  {
   "cell_type": "code",
   "execution_count": null,
   "id": "93dcc3d8",
   "metadata": {},
   "outputs": [],
   "source": [
    "# Math Operation\n",
    "\n",
    "#Float Division \n",
    "print(5/2)\n",
    "# Integer Division\n",
    "print(5//2)\n",
    "# Exponentiation\n",
    "print(5**2)\n",
    "# Remainder\n",
    "print(5%2)"
   ]
  },
  {
   "cell_type": "code",
   "execution_count": null,
   "id": "201fffd3",
   "metadata": {},
   "outputs": [],
   "source": [
    "# Operator Precedence\n",
    "# The precedence of the math operators, from highest to lowest, are:\n",
    "# Parentheses ()\n",
    "# Exponentiation: **\n",
    "# Multiplication, division, and remainder: * / // %\n",
    "# Addition and subtraction: + −\n",
    "\n",
    "print(5+2*4)\n",
    "print(10/2-3)\n",
    "print(8+12*2-4)\n",
    "print(6-3*2+7-1)\n",
    "print((6-3)*(2+7)/3)"
   ]
  },
  {
   "cell_type": "code",
   "execution_count": null,
   "id": "a6d8fa8d",
   "metadata": {},
   "outputs": [],
   "source": [
    "# Casting : Coonvert Number to Another\n",
    "# int(x) to convert x to a plain integer.\n",
    "# float(x) to convert x to a floating-point number.\n",
    "# str() to construct string from a wide variety of data types, including strings, integer literals and float literals\n",
    "\n",
    "x=input(\"Enter Grade: \")\n",
    "y=int(x)\n",
    "print(y*2)\n",
    "print(x*2)"
   ]
  },
  {
   "cell_type": "code",
   "execution_count": null,
   "id": "2961083a",
   "metadata": {},
   "outputs": [],
   "source": [
    "# Convert To Float\n",
    "x=\"25\"\n",
    "z=float(x)\n",
    "print(z)\n",
    "print(z*2)"
   ]
  },
  {
   "cell_type": "code",
   "execution_count": null,
   "id": "d7536c01",
   "metadata": {},
   "outputs": [],
   "source": [
    "# Convert To String\n",
    "x=5\n",
    "print(str(x),\"00 Students\",sep='')"
   ]
  },
  {
   "cell_type": "code",
   "execution_count": null,
   "id": "78322a2c",
   "metadata": {},
   "outputs": [],
   "source": [
    "# String Testing Methods\n",
    "txt1 = \"Coompany12\"\n",
    "txt2 = \"Coompany12!\"\n",
    "x = txt1.isalnum()\n",
    "y = txt2.isalnum()\n",
    "print(x,y)"
   ]
  },
  {
   "cell_type": "code",
   "execution_count": null,
   "id": "5fe631b5",
   "metadata": {},
   "outputs": [],
   "source": [
    "# Modification Methods\n",
    "name1=\"Ahmed\"\n",
    "name2=\"Mazen\"\n",
    "name3=\"Fadi\"\n",
    "print(name1.lower())\n",
    "print(name2.upper())\n",
    "print(name3.lower())"
   ]
  },
  {
   "cell_type": "code",
   "execution_count": null,
   "id": "56352926",
   "metadata": {},
   "outputs": [],
   "source": []
  }
 ],
 "metadata": {
  "kernelspec": {
   "display_name": "Python 3",
   "language": "python",
   "name": "python3"
  },
  "language_info": {
   "codemirror_mode": {
    "name": "ipython",
    "version": 3
   },
   "file_extension": ".py",
   "mimetype": "text/x-python",
   "name": "python",
   "nbconvert_exporter": "python",
   "pygments_lexer": "ipython3",
   "version": "3.8.8"
  }
 },
 "nbformat": 4,
 "nbformat_minor": 5
}
