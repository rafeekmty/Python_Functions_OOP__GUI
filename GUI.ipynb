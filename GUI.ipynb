{
 "cells": [
  {
   "cell_type": "markdown",
   "id": "05c6353d",
   "metadata": {},
   "source": [
    "# Python programming\n",
    "# By Dr.Rafeek Yanni\n",
    "# GUI - Tkinter "
   ]
  },
  {
   "cell_type": "code",
   "execution_count": null,
   "id": "ff6dde38",
   "metadata": {},
   "outputs": [],
   "source": [
    "import tkinter"
   ]
  },
  {
   "cell_type": "code",
   "execution_count": null,
   "id": "93cc9120",
   "metadata": {},
   "outputs": [],
   "source": [
    "# This program displays an empty window.\n",
    "import tkinter  \n",
    "def main():\n",
    "    # Create the main window widget.\n",
    "    main_window = Tk()\n",
    "    # Enter the tkinter main loop.\n",
    "    tkinter.mainloop()\n",
    "# Call the main function.\n",
    "main()"
   ]
  },
  {
   "cell_type": "code",
   "execution_count": null,
   "id": "cdb39cf1",
   "metadata": {},
   "outputs": [],
   "source": [
    "from tkinter import *\n",
    "class MyGUI:\n",
    "    def __init__(self):\n",
    "        # Create the main widget\n",
    "        self.main_window = Tk()\n",
    "        # Display a title.\n",
    "        self.main_window.title(\"My Window\")\n",
    "        self.main_window.geometry(\"400x300\")\n",
    "        # Enter the Tkinter main loop\n",
    "        mainloop()\n",
    "my_gui = MyGUI()"
   ]
  },
  {
   "cell_type": "code",
   "execution_count": null,
   "id": "5d8c21e6",
   "metadata": {},
   "outputs": [],
   "source": [
    "# Define window dimention \n",
    "class MyGUI:\n",
    "    def __init__(self):\n",
    "        # Create the main widget\n",
    "        self.main_window = Tk()\n",
    "        # Display a title.\n",
    "        self.main_window.title(\"New Size Window\")\n",
    "        self.main_window.geometry(\"400x300\")\n",
    "        # Enter the Tkinter main loop\n",
    "        mainloop()\n",
    "my_gui = MyGUI()"
   ]
  },
  {
   "cell_type": "markdown",
   "id": "7229ed0d",
   "metadata": {},
   "source": [
    "Valid arguments: side='top', side='left’, side='right’, side=‘bottom’\n",
    "                 (or side=TOP, side= LEFT, side= RIGHT, side= BOTTOM). "
   ]
  },
  {
   "cell_type": "code",
   "execution_count": null,
   "id": "d0755cc0",
   "metadata": {},
   "outputs": [],
   "source": [
    "# Define Label\n",
    "from tkinter import *\n",
    "class MyGUI:\n",
    "    def __init__(self):\n",
    "        self.main_window=Tk()\n",
    "        self.main_window.title('My First Window')\n",
    "        self.label=Label(self.main_window,text='Hello World')\n",
    "        self.label.pack()\n",
    "        mainloop()\n",
    "my_gui=MyGUI()"
   ]
  },
  {
   "cell_type": "code",
   "execution_count": null,
   "id": "7ef052b3",
   "metadata": {},
   "outputs": [],
   "source": [
    "# Define Label\n",
    "from tkinter import *\n",
    "class MyGUI:\n",
    "    def __init__(self):\n",
    "        self.main_window=Tk()\n",
    "        self.main_window.title('My First Window')\n",
    "        self.label1=Label(self.main_window,text='Hello World')\n",
    "        self.label2=Label(self.main_window,text='Welcom To AOU Egypt')\n",
    "        self.label1.pack()\n",
    "        self.label2.pack()\n",
    "        mainloop()\n",
    "my_gui=MyGUI()"
   ]
  },
  {
   "cell_type": "code",
   "execution_count": null,
   "id": "20a90191",
   "metadata": {},
   "outputs": [],
   "source": [
    "# Define Label pack\n",
    "from tkinter import *\n",
    "class MyGUI:\n",
    "    def __init__(self):\n",
    "        self.main_window=Tk()\n",
    "        self.main_window.title('My First Window')\n",
    "        self.label1=Label(self.main_window,text='Hello World')\n",
    "        self.label2=Label(self.main_window,text='Welcom To AOU Egypt')\n",
    "        self.label1.pack(side='left')\n",
    "        self.label2.pack(side='right')\n",
    "        mainloop()\n",
    "my_gui=MyGUI()"
   ]
  },
  {
   "cell_type": "code",
   "execution_count": null,
   "id": "df619082",
   "metadata": {},
   "outputs": [],
   "source": [
    "# relief Argument\n",
    "# relief='flat',relief='raised',relief='sunken'\n",
    "# relief='ridge',relief='solid',relief='groove'"
   ]
  },
  {
   "cell_type": "code",
   "execution_count": null,
   "id": "38885fbc",
   "metadata": {},
   "outputs": [],
   "source": [
    "# Add Label Border\n",
    "from tkinter import *\n",
    "class MyGUI:\n",
    "    def __init__(self):\n",
    "        self.main_window=Tk()\n",
    "        self.main_window.title('My First Window')\n",
    "        self.label1=Label(self.main_window,text='Hello World', borderwidth=1, relief='solid')\n",
    "        self.label2=Label(self.main_window,text='Welcom To AOU Egypt', borderwidth=4, relief='solid')\n",
    "        self.label1.pack(side='left')\n",
    "        self.label2.pack(side='right')\n",
    "        mainloop()\n",
    "my_gui=MyGUI()"
   ]
  },
  {
   "cell_type": "code",
   "execution_count": null,
   "id": "9fbe77c9",
   "metadata": {},
   "outputs": [],
   "source": [
    "# Add Text Box (T = Text(root, bg, fg, bd, height, width, font, ..)\n",
    "# Add Botton (T = Text(root, bg, fg, bd, height, width, font, ..)\n",
    "\n",
    "from tkinter import *\n",
    "class MyGUI:\n",
    "    def __init__(self):\n",
    "        self.main_window=Tk()\n",
    "        self.main_window.title('My First Window')\n",
    "        self.label1=Label(self.main_window,text='Hello World', borderwidth=1, relief='solid')\n",
    "        self.label2=Label(self.main_window,text='Welcom To AOU Egypt', borderwidth=4, relief='solid')\n",
    "        self.T = Text(self.main_window, height = 5, width = 52)\n",
    "        self.b=Button(self.main_window, text=\"Submit\")\n",
    "        self.b=Button(self.main_window, text=\"Exit\",command=self.main_window.destroy)\n",
    "        self.label1.pack(side='left')\n",
    "        self.label2.pack(side='right')\n",
    "        self.T.pack()\n",
    "        self.b.pack()\n",
    "        mainloop()\n",
    "my_gui=MyGUI()"
   ]
  },
  {
   "cell_type": "code",
   "execution_count": null,
   "id": "de81ab05",
   "metadata": {},
   "outputs": [],
   "source": [
    "# Padding: space that appears around a widget\n",
    "    # Internal padding : appears around the inside edge of a widget\n",
    "        # Horizontal padding: ipadx\n",
    "        # Vertical padding : ipady\n",
    "    # External padding : appears around the outside edge of a widget"
   ]
  },
  {
   "cell_type": "code",
   "execution_count": null,
   "id": "50c82fe5",
   "metadata": {},
   "outputs": [],
   "source": [
    "# Internal padding\n",
    "from tkinter import *\n",
    "class MyGUI:\n",
    "    def __init__(self):\n",
    "        self.main_window=Tk()\n",
    "        self.main_window.title('My First Window')\n",
    "        self.label1=Label(self.main_window,text='Hello World', borderwidth=1, relief='solid')\n",
    "        self.label2=Label(self.main_window,text='Welcom To AOU Egypt', borderwidth=4, relief='solid')\n",
    "        self.label1.pack(ipadx=20, ipady=20)\n",
    "        self.label2.pack(ipadx=50, ipady=50)\n",
    "        mainloop()\n",
    "my_gui=MyGUI()"
   ]
  },
  {
   "cell_type": "code",
   "execution_count": null,
   "id": "08a1b025",
   "metadata": {},
   "outputs": [],
   "source": [
    "# Externternal padding\n",
    "from tkinter import *\n",
    "class MyGUI:\n",
    "    def __init__(self):\n",
    "        self.main_window=Tk()\n",
    "        self.main_window.title('My First Window')\n",
    "        self.label1=Label(self.main_window,text='Hello World', borderwidth=1, relief='solid')\n",
    "        self.label2=Label(self.main_window,text='Welcom To AOU Egypt', borderwidth=4, relief='solid')\n",
    "        self.label1.pack(padx=20, pady=20)\n",
    "        self.label2.pack(padx=50, pady=50)\n",
    "        mainloop()\n",
    "my_gui=MyGUI()"
   ]
  },
  {
   "cell_type": "code",
   "execution_count": null,
   "id": "b2841959",
   "metadata": {},
   "outputs": [],
   "source": [
    "# Externternal & Internal padding\n",
    "from tkinter import *\n",
    "class MyGUI:\n",
    "    def __init__(self):\n",
    "        self.main_window=Tk()\n",
    "        self.main_window.title('My First Window')\n",
    "        self.label1=Label(self.main_window,text='Hello World', borderwidth=1, relief='solid')\n",
    "        self.label2=Label(self.main_window,text='Welcom To AOU Egypt', borderwidth=4, relief='solid')\n",
    "        self.label1.pack(side='left', ipadx=20, ipady=20, padx=50, pady=50)\n",
    "        self.label2.pack(side='right', ipadx=20, ipady=20, padx=50, pady=50)\n",
    "        mainloop()\n",
    "my_gui=MyGUI()"
   ]
  },
  {
   "cell_type": "code",
   "execution_count": null,
   "id": "5eb8e4c1",
   "metadata": {},
   "outputs": [],
   "source": [
    "from tkinter import *\n",
    "\n",
    "class MyGUI:\n",
    "    def __init__(self):\n",
    "        # Create the main window\n",
    "        self.main_window = Tk()\n",
    "        self.main_window.title(\"Labels in Frames Example\")\n",
    "        self.main_window.geometry(\"400x300\")  # Set a default size for the window\n",
    "\n",
    "        # Create Three Frames\n",
    "        self.top_frame = Frame(self.main_window)\n",
    "        self.bottom_frame = Frame(self.main_window)\n",
    "        self.middle_frame = Frame(self.main_window)\n",
    "\n",
    "        ################################################\n",
    "        self.top_frame=Frame(bg=\"lightblue\", pady=10)\n",
    "        self.top_frame.pack(side='top', fill='x')\n",
    "        \n",
    "        # Top Frame\n",
    "        self.label1 = Label(self.top_frame,text=\"Location\",bg=\"lightblue\", fg=\"red\")\n",
    "        self.label2 = Label(self.top_frame,text=\"Traffic\",bg=\"lightblue\", font=(\"Helvetica\",50))\n",
    "        self.label3 = Label(self.top_frame,text=\"Date\",bg=\"lightblue\",font=(\"Helvetica\",10))\n",
    "\n",
    "        # Pack the labels in frame\n",
    "        self.label1.pack(side=\"top\",anchor=\"w\")\n",
    "        self.label2.pack(side=\"top\",anchor=\"s\")\n",
    "        self.label3.pack(side=\"top\",anchor=\"se\")\n",
    "        ######################################\n",
    "        self.bottom_frame=Frame(bg=\"lightgreen\", padx=20)\n",
    "        self.bottom_frame.pack(side='left', fill='y')\n",
    "        \n",
    "        # Bottom Frame\n",
    "        self.label4 = Label(self.bottom_frame,text=\"Deposit\",bg=\"lightgreen\")\n",
    "        self.label5 = Label(self.bottom_frame,text=\"withdraw\",bg=\"lightgreen\")\n",
    "        self.label6 = Label(self.bottom_frame,text=\"Balance\",bg=\"lightgreen\")\n",
    "\n",
    "        # Pack the labels in frame\n",
    "        self.label4.pack(side=\"left\")\n",
    "        self.label5.pack(side=\"left\")\n",
    "        self.label6.pack(side=\"left\")\n",
    "        ########################################\n",
    "        self.middle_frame=Frame(bg=\"lightyellow\", padx=10, pady=10)\n",
    "        self.middle_frame.pack(side='bottom', fill='both', expand=\"True\")\n",
    "        \n",
    "         # middle Frame\n",
    "        self.label7 = Label(self.middle_frame,text=\"Third Frame\", \n",
    "                            relief=\"raised\", borderwidth=2)\n",
    "\n",
    "        # Pack the labels in frame\n",
    "        self.label7.pack(side=\"left\", ipadx=20,ipady=20,padx=50,pady=50)\n",
    "\n",
    "        # Pack All frames in windoow\n",
    "        self.top_frame.pack()\n",
    "        self.bottom_frame.pack()\n",
    "        self.middle_frame.pack()\n",
    "        mainloop()\n",
    "my_gui=MyGUI()   \n"
   ]
  },
  {
   "cell_type": "code",
   "execution_count": null,
   "id": "7ab1ec29",
   "metadata": {},
   "outputs": [],
   "source": []
  }
 ],
 "metadata": {
  "kernelspec": {
   "display_name": "Python 3",
   "language": "python",
   "name": "python3"
  },
  "language_info": {
   "codemirror_mode": {
    "name": "ipython",
    "version": 3
   },
   "file_extension": ".py",
   "mimetype": "text/x-python",
   "name": "python",
   "nbconvert_exporter": "python",
   "pygments_lexer": "ipython3",
   "version": "3.8.8"
  }
 },
 "nbformat": 4,
 "nbformat_minor": 5
}
