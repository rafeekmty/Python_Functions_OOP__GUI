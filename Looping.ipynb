{
 "cells": [
  {
   "cell_type": "markdown",
   "id": "8c121c15",
   "metadata": {},
   "source": [
    "# Python programming\n",
    "# By Dr.Rafeek Yanni\n",
    "\n",
    "# For Loop \n",
    "# Range Function"
   ]
  },
  {
   "cell_type": "code",
   "execution_count": null,
   "id": "5ee6ae7c",
   "metadata": {},
   "outputs": [],
   "source": [
    "for i in range(5):\n",
    "    print(\"Hello\",i)"
   ]
  },
  {
   "cell_type": "code",
   "execution_count": null,
   "id": "ee8b6d83",
   "metadata": {},
   "outputs": [],
   "source": [
    " x = range(2,6)\n",
    "for n in x:\n",
    "      print(n)"
   ]
  },
  {
   "cell_type": "code",
   "execution_count": null,
   "id": "c8ed1506",
   "metadata": {},
   "outputs": [],
   "source": [
    " x = range(2,6,2)\n",
    "for n in x:\n",
    "      print(n)"
   ]
  },
  {
   "cell_type": "code",
   "execution_count": null,
   "id": "a369c02b",
   "metadata": {},
   "outputs": [],
   "source": [
    "print('A')\n",
    "print('B')\n",
    "for i in range(5):\n",
    "    print('C')\n",
    "    print('D')\n",
    "print('E')\n"
   ]
  },
  {
   "cell_type": "code",
   "execution_count": null,
   "id": "3d8c3e82",
   "metadata": {},
   "outputs": [],
   "source": [
    "for i in range(3):\n",
    "    print(i+1,'--Hello')"
   ]
  },
  {
   "cell_type": "code",
   "execution_count": null,
   "id": "54cd348a",
   "metadata": {},
   "outputs": [],
   "source": [
    "for i in range(2,8,2):\n",
    "    print(i,end=' ')\n"
   ]
  },
  {
   "cell_type": "code",
   "execution_count": null,
   "id": "5c82cf70",
   "metadata": {},
   "outputs": [],
   "source": [
    "for i in range(9,2,-2):\n",
    "    print(i,end=' ')"
   ]
  },
  {
   "cell_type": "code",
   "execution_count": null,
   "id": "4d5d4387",
   "metadata": {},
   "outputs": [],
   "source": [
    "for i in range(2,8,2):\n",
    "    print(i,end=\"\\t\")\n",
    "print(\"Done\")"
   ]
  },
  {
   "cell_type": "markdown",
   "id": "5ed668fc",
   "metadata": {},
   "source": [
    "# Reverse text"
   ]
  },
  {
   "cell_type": "code",
   "execution_count": null,
   "id": "91b32184",
   "metadata": {},
   "outputs": [],
   "source": [
    "revText= text[::-1]\n",
    "print(revText)"
   ]
  },
  {
   "cell_type": "code",
   "execution_count": null,
   "id": "ae98aee9",
   "metadata": {},
   "outputs": [],
   "source": [
    "text= \"Hello World\"\n",
    "for i in range(len(text)-1,-1,-1):\n",
    "    print(text[i],end=\"\")\n"
   ]
  },
  {
   "cell_type": "code",
   "execution_count": null,
   "id": "4826f0f2",
   "metadata": {},
   "outputs": [],
   "source": [
    "x=5\n",
    "y=0\n",
    "for i in range(5):\n",
    "    y+=x\n",
    "print(y)"
   ]
  },
  {
   "cell_type": "code",
   "execution_count": null,
   "id": "9a542100",
   "metadata": {},
   "outputs": [],
   "source": [
    "sum = 0\n",
    "for i in range(1,5):\n",
    "    sum = sum +i\n",
    "print (sum)"
   ]
  },
  {
   "cell_type": "markdown",
   "id": "f2186f7c",
   "metadata": {},
   "source": [
    "# While Loop"
   ]
  },
  {
   "cell_type": "code",
   "execution_count": null,
   "id": "1484e3bf",
   "metadata": {},
   "outputs": [],
   "source": [
    "x=1\n",
    "while x<4:\n",
    "    print(x**2)\n",
    "    x = x+1"
   ]
  },
  {
   "cell_type": "code",
   "execution_count": null,
   "id": "6198ee3b",
   "metadata": {},
   "outputs": [],
   "source": [
    "### Foor Loopp & While loop same results are equivelants\n",
    "# For Loop\n",
    "for i in range(10):\n",
    "    print(i,end=\" \")\n",
    "print(\"For Loop!\")\n",
    "\n",
    "# While loop\n",
    "i=0\n",
    "while i<10:\n",
    "    print(i,end=\" \")\n",
    "    i+=1\n",
    "print(\"While Loop\")"
   ]
  },
  {
   "cell_type": "code",
   "execution_count": null,
   "id": "05618108",
   "metadata": {},
   "outputs": [],
   "source": [
    "# For Loop\n",
    "for i in range(0,10,1):\n",
    "    print(i,end=\" \")\n",
    "print(\"For Loop!\")\n",
    "\n",
    "# While loop\n",
    "i=0\n",
    "while i<10:\n",
    "    print(i,end=\" \")\n",
    "    i+=1\n",
    "print(\"While Loop\")"
   ]
  },
  {
   "cell_type": "code",
   "execution_count": null,
   "id": "7ff2437c",
   "metadata": {},
   "outputs": [],
   "source": [
    "ans =\"y\"\n",
    "# loop will repeat itself as long as  ans=\"y\" \n",
    "while ans==\"y\":\n",
    "    sal=eval(input(\"Enter the salary: \"))\n",
    "    tax=0.05*sal\n",
    "    print(\"The tax will be:\",tax )\n",
    "    ans=input('Do you want to enter another salary? (Enter y for yes):')\n",
    "print(\"Thank you!\")"
   ]
  },
  {
   "cell_type": "code",
   "execution_count": null,
   "id": "24967d51",
   "metadata": {},
   "outputs": [],
   "source": [
    "ans =\"y\"\n",
    "# loop will repeat itself as long as  ans=\"y\" \n",
    "while ans==\"y\":\n",
    "    sal=eval(input(\"Enter the salary: \"))\n",
    "    tax=0.05*sal\n",
    "    print(\"The tax will be:\",tax )\n",
    "    print(\"The net sallary:\",sal-tax )\n",
    "    ans=input('Do you want to enter another salary? (Enter y for yes):')\n",
    "print(\"Thank you!\")"
   ]
  },
  {
   "cell_type": "code",
   "execution_count": null,
   "id": "515bc4c8",
   "metadata": {},
   "outputs": [],
   "source": [
    "# (Sentinels)---------------> loop will repeat itself as long as salary>0\n",
    "sal=eval(input(\"Enter the salary, any nonpositive number to stop: \"))\n",
    "while sal >0:\n",
    "    tax=0.05*sal\n",
    "    print(\"The tax will be:\",tax )\n",
    "    sal=eval(input('Enter the salary, any nonpositive number  to stop:'))\n",
    "print(\"Thank you!\")"
   ]
  },
  {
   "cell_type": "code",
   "execution_count": null,
   "id": "a8a789c5",
   "metadata": {},
   "outputs": [],
   "source": [
    "#(Input Validation)-----> loop will repeat itself as long as the entered value is invalid\n",
    "\n",
    "grade=eval(input(\"Enter the grade (between 0 & 20 included) \"))\n",
    "while grade<0 or grade>20:\n",
    "    print('Wrong entry!')\n",
    "    grade=eval(input(\"Enter the grade (between 0 & 20 included) \"))\n",
    "fgrade=grade*5\n",
    "print(\"The grade out of hundred is\",fgrade )\n",
    "print(\"Thank you!\")"
   ]
  },
  {
   "cell_type": "markdown",
   "id": "81570e14",
   "metadata": {},
   "source": [
    "# Break Statment"
   ]
  },
  {
   "cell_type": "code",
   "execution_count": null,
   "id": "a97204c2",
   "metadata": {},
   "outputs": [],
   "source": [
    "# The Break Statment can stop the loop\n",
    "# even if the while condition is true\n",
    "\n",
    "\n",
    "x=6\n",
    "while x<5:\n",
    "    print(x)\n",
    "    x=x+1\n",
    "    break\n",
    "else:\n",
    "    print(\"The loop Ended Normally\")\n",
    "print(\"Done!\")"
   ]
  },
  {
   "cell_type": "code",
   "execution_count": null,
   "id": "0a4ac861",
   "metadata": {},
   "outputs": [],
   "source": [
    "x=eval(input(\"Enter Number:\"))\n",
    "while x<5:\n",
    "    print(x)\n",
    "    x=x+1\n",
    "    break\n",
    "else:\n",
    "    print(\"The loop Ended Normally\")\n",
    "print(\"Done!\")"
   ]
  },
  {
   "cell_type": "code",
   "execution_count": null,
   "id": "8fbafc21",
   "metadata": {},
   "outputs": [],
   "source": [
    "#The continue Statement\n",
    "x = 0\n",
    "while x < 5 :\n",
    "    x+=1\n",
    "    if x==3:\n",
    "        continue\n",
    "    print(x)\n",
    "    \n",
    "else :\n",
    "    print ('The loop ended normally')\n",
    "print(\"Done!\")\n"
   ]
  },
  {
   "cell_type": "code",
   "execution_count": null,
   "id": "77668363",
   "metadata": {},
   "outputs": [],
   "source": [
    "# Nested loops \n",
    "\n",
    "for i in range(1,11):\n",
    "    for j in range(1,11):\n",
    "        print(i*j, end=\"\")\n",
    "    print('')"
   ]
  },
  {
   "cell_type": "code",
   "execution_count": null,
   "id": "5dc00275",
   "metadata": {},
   "outputs": [],
   "source": []
  }
 ],
 "metadata": {
  "kernelspec": {
   "display_name": "Python 3",
   "language": "python",
   "name": "python3"
  },
  "language_info": {
   "codemirror_mode": {
    "name": "ipython",
    "version": 3
   },
   "file_extension": ".py",
   "mimetype": "text/x-python",
   "name": "python",
   "nbconvert_exporter": "python",
   "pygments_lexer": "ipython3",
   "version": "3.8.8"
  }
 },
 "nbformat": 4,
 "nbformat_minor": 5
}
