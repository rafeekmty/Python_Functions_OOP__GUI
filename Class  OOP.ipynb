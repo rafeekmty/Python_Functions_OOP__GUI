{
 "cells": [
  {
   "cell_type": "markdown",
   "id": "d9df1e37",
   "metadata": {},
   "source": [
    "# Python programming\n",
    "# By Dr.Rafeek Yanni"
   ]
  },
  {
   "cell_type": "code",
   "execution_count": null,
   "id": "8fad9b5f",
   "metadata": {},
   "outputs": [],
   "source": [
    "class Person:\n",
    "    def __init__(self, name, age):\n",
    "        self.name = name  # حالة (State)\n",
    "        self.age = age    # حالة (State)\n",
    "    \n",
    "    def introduce(self):\n",
    "        print(\"My Name is\", self.name, \"And Iam\",self.age,\"Years Old\"  )\n",
    "    \n",
    "    def have_birthday(self):\n",
    "        self.age += 1  # Change Status by behavior\n",
    "        print(\"Happy Birthday! I am now\",self.age,\"years old.\")\n",
    "\n",
    "# إنشاء نسخة (Instance) من الفئة Person\n",
    "person1 = Person(\"Alice\", 25)\n",
    "person1.introduce()  # استدعاء behavior\n",
    "person1.have_birthday()  # Change Status by behavior\n"
   ]
  },
  {
   "cell_type": "code",
   "execution_count": null,
   "id": "4fd9b2f2",
   "metadata": {},
   "outputs": [],
   "source": [
    "# Define Class \n",
    "class Person:\n",
    "    # Define Attributes\n",
    "    name = \"No Name\"\n",
    "    # Define Object\n",
    "    def RMTY(self):\n",
    "        print(\"My Name Is :\",self.name)\n",
    "# Define Methods \n",
    "def Printable():\n",
    "    P=Person()\n",
    "    P.RMTY()\n",
    "    P.name=\"Rafee M110\"\n",
    "    #P.RMTY()\n",
    "    P.RMTY()\n",
    "Printable()"
   ]
  },
  {
   "cell_type": "code",
   "execution_count": null,
   "id": "60187433",
   "metadata": {},
   "outputs": [],
   "source": [
    "class Person:\n",
    "   name = \"I have no name :(\"\n",
    "   def sayName(self):\n",
    "      print(\"My name is...\", self.name)\n",
    "\n",
    "def main():\n",
    "   aPerson = Person()\n",
    "   aPerson.sayName()\n",
    "   aPerson.name = \"Big Smiley :D\"\n",
    "   aPerson.sayName()\n",
    "\n",
    "main()\n"
   ]
  },
  {
   "cell_type": "code",
   "execution_count": null,
   "id": "898dc9b6",
   "metadata": {},
   "outputs": [],
   "source": [
    "class Person:\n",
    "    name = \"I have no name :(\"  # القيمة الافتراضية للاسم\n",
    "\n",
    "    def sayName(self):\n",
    "        print(\"My name is...\", self.name)  # طباعة الاسم باستخدام self\n",
    "\n",
    "def main():\n",
    "    # إنشاء كائن من الفئة Person وتخصيص اسم\n",
    "    lisa = Person()\n",
    "    lisa.name = \"Lisa Haddad, pleased to meet you.\"  # تغيير الاسم\n",
    "\n",
    "    # إنشاء كائن آخر من الفئة Person وتخصيص اسم\n",
    "    bassem = Person()\n",
    "    bassem.name = \"I'm Bassem Hassan, who are you???!!!\"  # تغيير الاسم\n",
    "\n",
    "    # استدعاء الطريقة sayName للطباعة\n",
    "    lisa.sayName()  # سيطبع \"My name is... Lisa Haddad, pleased to meet you.\"\n",
    "    bassem.sayName()  # سيطبع \"My name is... I'm Bassem Hassan, who are you???!!!\"\n",
    "\n",
    "main()\n"
   ]
  },
  {
   "cell_type": "code",
   "execution_count": null,
   "id": "e7b6d3c2",
   "metadata": {},
   "outputs": [],
   "source": [
    "# Define __init__\n",
    "class Person:\n",
    "    def __init__(self, name, age):\n",
    "        self.name = name  # تعيين قيمة الاسم\n",
    "        self.age = age    # تعيين قيمة العمر\n",
    "\n",
    "    def sayName(self):\n",
    "        #print(f\"My name is {self.name} and I am {self.age} years old.\")\n",
    "        print(\"My Name is\", self.name, \"and I am \", self.age,\" years old\")\n",
    "\n",
    "def main():\n",
    "    # إنشاء كائن من الفئة Person مع تعيين القيم الابتدائية\n",
    "    lisa = Person(\"Lisa Haddad\", 25)\n",
    "    bart = Person(\"Bart Simpson\", 12)\n",
    "\n",
    "    # استدعاء الطريقة sayName لكل كائن\n",
    "    lisa.sayName()  # سيطبع \"My name is Lisa Haddad and I am 25 years old.\"\n",
    "    bart.sayName()  # سيطبع \"My name is Bart Simpson and I am 12 years old.\"\n",
    "\n",
    "main()"
   ]
  },
  {
   "cell_type": "raw",
   "id": "acf211be",
   "metadata": {},
   "source": [
    "# Write a Python class Person that represents a person with the attributes name, age, and profession. The class should have an initializer method __init__() to initialize the instance variables. It should also have two instance methods: show() to display the name, age, and profession of the person, and work() to display the person's name and profession.\n",
    "\n",
    "The program should also:\n",
    "Prompt the user to enter their name, age, and profession. \n",
    "Create an object of the Person class using the entered values. \n",
    "Call the show() and work() methods on the object to display the person's details and profession, respectively.\n"
   ]
  },
  {
   "cell_type": "code",
   "execution_count": null,
   "id": "ce743c16",
   "metadata": {},
   "outputs": [],
   "source": [
    "class Person:\n",
    "    def __init__(self, aname, anage, aprofession):\n",
    "        # data members (instance variables)\n",
    "        self.name = aname\n",
    "        self.age = anage\n",
    "        self.profession = aprofession\n",
    "\n",
    "    # Behavior (instance methods)\n",
    "    def show(self):\n",
    "        print('Name:', self.name, '\\tAge:', self.age, '\\tProfession:', self.profession)\n",
    "\n",
    "    # Behavior (instance methods)\n",
    "    def work(self):\n",
    "        print(self.name, 'is working as a/an', self.profession)\n",
    "\n",
    "myname = input(\"Enter the name: \")\n",
    "myAge = input(\"Enter the Age: \")\n",
    "myProfession = input(\"Enter the profession: \")\n",
    "\n",
    "p = Person(myname, myAge, myProfession)\n",
    "p.show()\n",
    "p.work()\n"
   ]
  },
  {
   "cell_type": "code",
   "execution_count": null,
   "id": "92e964d3",
   "metadata": {},
   "outputs": [],
   "source": [
    "class Computation:\n",
    "    def __init__ (self):\n",
    "        self.n=0\n",
    "# --- Factorial ------------\n",
    "    def factorial(self, n):\n",
    "        j = 1\n",
    "        for i in range (1, n + 1):\n",
    "            j = j * i\n",
    "        return j   \n",
    "# --- Sum of the first n numbers ----\n",
    "    def sum (self, n):\n",
    "        j = 0\n",
    "        for i in range (1, n + 1):\n",
    "            j = j + i\n",
    "        return j\n",
    "x= Computation()\n",
    "n=int(input(\"Enter an integer: \"))\n",
    "print(\"The factorial of the number\",n, \"is:\",x.factorial(n))\n",
    "print(\"The sum from the number\",n, \" to 1 is:\",x.sum(n))\n"
   ]
  },
  {
   "cell_type": "code",
   "execution_count": null,
   "id": "487d06be",
   "metadata": {},
   "outputs": [],
   "source": []
  }
 ],
 "metadata": {
  "kernelspec": {
   "display_name": "Python 3",
   "language": "python",
   "name": "python3"
  },
  "language_info": {
   "codemirror_mode": {
    "name": "ipython",
    "version": 3
   },
   "file_extension": ".py",
   "mimetype": "text/x-python",
   "name": "python",
   "nbconvert_exporter": "python",
   "pygments_lexer": "ipython3",
   "version": "3.8.8"
  }
 },
 "nbformat": 4,
 "nbformat_minor": 5
}
